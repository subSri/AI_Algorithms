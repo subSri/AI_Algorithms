{
 "cells": [
  {
   "cell_type": "code",
   "execution_count": 6,
   "metadata": {},
   "outputs": [
    {
     "name": "stdout",
     "output_type": "stream",
     "text": [
      "[[1 2 3]\n",
      " [4 5 6]\n",
      " [7 8 0]]\n",
      "\n",
      "[[8 1 2]\n",
      " [0 4 3]\n",
      " [7 6 5]]\n"
     ]
    }
   ],
   "source": [
    "#1,8,2,0,4,3,7,6,5\n",
    "#1,2,0,4,5,3,7,8,6\n",
    "\n",
    "#unsolvable config\n",
    "#8,1,2,0,4,3,7,6,5\n",
    "\n",
    "import numpy as np\n",
    "from copy import deepcopy\n",
    "goal = np.array([1,2,3,4,5,6,7,8,0]).reshape(3,3)\n",
    "print(goal)\n",
    "print()\n",
    "start_state = np.array([8,1,2,0,4,3,7,6,5]).reshape(3,3)\n",
    "print(start_state)\n",
    "reaches=[]\n",
    "reaches.append(0)"
   ]
  },
  {
   "cell_type": "code",
   "execution_count": 7,
   "metadata": {},
   "outputs": [],
   "source": [
    "#checking if current state in closedList\n",
    "\n",
    "def isVisited(state,vis):\n",
    "  flag=0\n",
    "  for i in vis:\n",
    "    if (state==i).all()==True:\n",
    "      flag=1\n",
    "      break\n",
    "  if flag==1:\n",
    "    return True\n",
    "  else:\n",
    "    return False\n"
   ]
  },
  {
   "cell_type": "code",
   "execution_count": 8,
   "metadata": {},
   "outputs": [],
   "source": [
    "\n",
    "#Checking if current state is Goal\n",
    "\n",
    "def isGoal(state):\n",
    "  return (goal==state).all()"
   ]
  },
  {
   "cell_type": "code",
   "execution_count": 9,
   "metadata": {},
   "outputs": [],
   "source": [
    "#Running Dfs with a limit increasing by small amount everytime\n",
    "#Deepcopy ensures matrix call by value\n",
    "\n",
    "def findGoal(curr_state,i,j,curr_visit,allowed,depth):\n",
    "  \n",
    "  if depth>allowed:\n",
    "        return False\n",
    "  elif isGoal(np.array(curr_state)):\n",
    "    ans = curr_state\n",
    "    print(\"Congrats you reached the goal\\n\",curr_state)\n",
    "   \n",
    "    return True\n",
    "  else:\n",
    "    \n",
    "    myI=i\n",
    "    myJ=j\n",
    "    # myI,myJ=(np.where(curr_state==0))\n",
    "    # myI=int(myI)\n",
    "    # myJ=int(myJ)\n",
    "\n",
    " \n",
    "    \n",
    "   \n",
    "    possib = [[0,-1],[1,0],[0,1],[-1,0]]\n",
    "   \n",
    "    solution = False\n",
    "    \n",
    "    for i,j in possib:\n",
    "      \n",
    "      if (myI+i>=0 and myJ+j<3 and myI+i<3 and myJ+j>=0):\n",
    "        if not isVisited(curr_state,curr_visit):\n",
    "        \n",
    "          next_state = deepcopy(curr_state)\n",
    "             \n",
    "          next_visit = deepcopy(curr_visit)\n",
    "\n",
    "          #Swap with 0 the actions\n",
    "          temp = curr_state[myI+i][myJ+j]\n",
    "          next_state[myI+i][myJ+j] = 0\n",
    "          next_state[myI][myJ] = temp\n",
    "\n",
    "          next_visit.append(curr_state)\n",
    "          solution = findGoal(next_state,myI+i,myJ+j,next_visit,allowed,depth+1)\n",
    "          if solution == True:\n",
    "              return solution\n",
    "    \n",
    "    return solution\n",
    "\n",
    "\n"
   ]
  },
  {
   "cell_type": "code",
   "execution_count": null,
   "metadata": {},
   "outputs": [
    {
     "name": "stdout",
     "output_type": "stream",
     "text": [
      "Starting  0  th iteration\n",
      "Starting  1  th iteration\n",
      "Starting  2  th iteration\n",
      "Starting  3  th iteration\n",
      "Starting  4  th iteration\n",
      "Starting  5  th iteration\n",
      "Starting  6  th iteration\n",
      "Starting  7  th iteration\n",
      "Starting  8  th iteration\n",
      "Starting  9  th iteration\n",
      "Starting  10  th iteration\n",
      "Starting  11  th iteration\n",
      "Starting  12  th iteration\n",
      "Starting  13  th iteration\n",
      "Starting  14  th iteration\n",
      "Starting  15  th iteration\n",
      "Starting  16  th iteration\n",
      "Starting  17  th iteration\n",
      "Starting  18  th iteration\n",
      "Starting  19  th iteration\n",
      "Starting  20  th iteration\n",
      "Starting  21  th iteration\n",
      "Starting  22  th iteration\n",
      "Starting  23  th iteration\n"
     ]
    }
   ],
   "source": [
    "#After 50 iterations(which is a lot) if solution is not found it stops and doesnt go further \n",
    "\n",
    "vis=[]\n",
    "ans=np.zeros([3,3])\n",
    "myI,myJ=(np.where(start_state==0))   #index where matrix has 0 as value\n",
    "myI=int(myI)\n",
    "myJ=int(myJ)\n",
    "depth=0\n",
    "for i in range(50):\n",
    "    print(\"Starting \",i,\" th iteration\")\n",
    "    x=findGoal(start_state,myI,myJ,vis,i,depth)\n",
    "    if x==True:\n",
    "        break\n",
    "if x==False:\n",
    "    print(\"Solution not found\")"
   ]
  },
  {
   "cell_type": "code",
   "execution_count": null,
   "metadata": {},
   "outputs": [],
   "source": []
  }
 ],
 "metadata": {
  "kernelspec": {
   "display_name": "Python 3",
   "language": "python",
   "name": "python3"
  },
  "language_info": {
   "codemirror_mode": {
    "name": "ipython",
    "version": 3
   },
   "file_extension": ".py",
   "mimetype": "text/x-python",
   "name": "python",
   "nbconvert_exporter": "python",
   "pygments_lexer": "ipython3",
   "version": "3.7.1rc2"
  }
 },
 "nbformat": 4,
 "nbformat_minor": 2
}
